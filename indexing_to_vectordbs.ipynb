{
 "cells": [
  {
   "cell_type": "markdown",
   "id": "76c9cdb9",
   "metadata": {},
   "source": [
    "INDEXING"
   ]
  },
  {
   "cell_type": "code",
   "execution_count": 2,
   "id": "c8a1028a",
   "metadata": {},
   "outputs": [],
   "source": [
    "from dotenv import load_dotenv, find_dotenv\n",
    "load_dotenv(find_dotenv())\n",
    "\n",
    "import os\n",
    "os.environ['LANGCHAIN_TRACING_V2'] = 'true'\n",
    "os.environ['LANGCHAIN_ENDPOINT'] = 'https://api.smith.langchain.com'\n",
    "os.environ['LANGCHAIN_PROJECT'] = 'advanced-rag'\n",
    "os.environ['LANGCHAIN_API_KEY'] = os.getenv(\"LANGCHAIN_API_KEY\")\n",
    "os.environ['GROQ_API_KEY'] = os.getenv(\"GROQQ_API_KEY\")"
   ]
  },
  {
   "cell_type": "markdown",
   "id": "1deb5fa8",
   "metadata": {},
   "source": [
    "MULTI - REPRESENTATION INDEXING"
   ]
  },
  {
   "cell_type": "code",
   "execution_count": 3,
   "id": "0001a9f3",
   "metadata": {},
   "outputs": [
    {
     "name": "stderr",
     "output_type": "stream",
     "text": [
      "USER_AGENT environment variable not set, consider setting it to identify your requests.\n"
     ]
    }
   ],
   "source": [
    "from langchain_community.document_loaders import WebBaseLoader\n",
    "from langchain_text_splitters import RecursiveCharacterTextSplitter"
   ]
  },
  {
   "cell_type": "code",
   "execution_count": 4,
   "id": "37662a27",
   "metadata": {},
   "outputs": [],
   "source": [
    "loader = WebBaseLoader(\n",
    "    \"https://medium.com/@pankaj_pandey/introduction-to-retrieval-augmented-generation-rag-9209bf8a076d\"\n",
    ")\n",
    "docs = loader.load()\n",
    "\n",
    "loader = WebBaseLoader(\n",
    "    \"https://medium.com/humansdotai/an-introduction-to-ai-agents-e8c4afd2ee8f\"\n",
    ")\n",
    "docs.extend(loader.load())"
   ]
  },
  {
   "cell_type": "code",
   "execution_count": 5,
   "id": "a46818ea",
   "metadata": {},
   "outputs": [],
   "source": [
    "import uuid\n",
    "\n",
    "from langchain_core.documents import Document\n",
    "from langchain_core.output_parsers import StrOutputParser\n",
    "from langchain_core.prompts import ChatPromptTemplate\n",
    "from langchain_groq import ChatGroq\n",
    "\n",
    "chain = (\n",
    "    {\"doc\": lambda x: x.page_content}\n",
    "    | ChatPromptTemplate.from_template(\"Summarize the following document:\\n\\n{doc}\")\n",
    "    | ChatGroq(model = \"llama3-70b-8192\")\n",
    "    | StrOutputParser()\n",
    ")\n",
    "\n",
    "summaries = chain.batch(docs, {\"max_concurrency\": 1})"
   ]
  },
  {
   "cell_type": "code",
   "execution_count": 6,
   "id": "0badb859",
   "metadata": {},
   "outputs": [
    {
     "data": {
      "text/plain": [
       "['The article introduces Retrieval-Augmented Generation (RAG), a framework that aims to improve the accuracy and reliability of Large Language Models (LLMs) by incorporating factual information during response generation. RAG addresses the drawbacks of LLMs, such as knowledge cutoff and response hallucination, by grounding them in external knowledge bases.\\n\\nThe purpose of RAG is to provide access to up-to-date facts and verifiable sources, increasing user trust in LLM-generated responses. RAG consists of two phases: retrieval and content generation. In the retrieval phase, algorithms search for and retrieve relevant information from external knowledge bases. In the generative phase, the LLM synthesizes an answer based on both the augmented prompt and its internal representation of training data.\\n\\nThe benefits of RAG include:\\n\\n* Accuracy and fact-checking: Ensuring LLM responses are based on reliable sources, allowing users to verify claims.\\n* Reduced bias and hallucination: Limiting LLM reliance on internal biases and preventing fabrication of information.\\n* Lower cost and maintenance: Reducing the need for continuous LLM retraining and updates, saving computational resources.\\n\\nRAG has several applications, including personalized responses, verifiable answers, and lowering computational and financial costs in enterprise settings. The article also discusses the challenges and ongoing innovations in RAG, such as improving retrieval algorithms and generation techniques.\\n\\nThe article provides Python code examples to demonstrate the retrieval and generative phases of RAG, as well as its application in a question-answering system. It concludes that RAG is a promising approach for improving LLM accuracy and reliability, offering benefits like factual grounding, reduced bias, and lower maintenance costs.',\n",
       " 'The article provides an introduction to Artificial Intelligence (AI) Agents, which are digital systems that can perform tasks, make decisions, and interact with their environment like humans. Powered by machine learning, natural language processing, and other cutting-edge technologies, AI Agents can learn from data, adapt to new information, and execute complex functions autonomously.\\n\\nThe article explains that AI Agents are designed to understand, analyze, and respond to human input, constantly evolving to enhance their capabilities. They exist in various forms, from chatbots providing customer service to sophisticated robots created for healthcare and manufacturing.\\n\\nThe article delves into the world of AI Agents, exploring their functionalities, the technology behind their intelligence, their applications across industries, and the ethical considerations that arise as these agents become increasingly integrated into our daily lives.\\n\\nSome key points from the article include:\\n\\n* AI Agents operate autonomously, free from human intervention, and can make fast decisions based on real-time information.\\n* They are revolutionizing the way we interact with technology, operating independently, and driven by goals rather than specific inputs.\\n* AI Agents are capable of using computers, browsing the internet, managing apps, conducting financial transactions, and controlling devices.\\n* They are a step towards Artificial General Intelligence (AGI), where machines will emulate human-like flexibility and unparalleled proficiency across diverse domains.\\n* AI Agents have characteristics such as enhanced efficiency, tailored personalization, unmatched scalability, always-on availability, and reduced costs.\\n* They are transforming businesses across various industries, including finance, energy, transportation, healthcare, customer service, gaming, smart homes, and buildings, robotics, natural language processing, cybersecurity, environmental monitoring, and social media.\\n* There are different categories of AI Agents, including simple reflex agents, model-based reflex agents, goal-based agents, utility-based agents, learning agents, and hierarchical AI agents.\\n\\nThe article concludes that AI Agents have vast potential to revolutionize industries and transform the way we live and work. However, it is essential to consider ethical implications and ensure responsible and beneficial utilization of these agents.']"
      ]
     },
     "execution_count": 6,
     "metadata": {},
     "output_type": "execute_result"
    }
   ],
   "source": [
    "summaries"
   ]
  },
  {
   "cell_type": "code",
   "execution_count": 7,
   "id": "4bc77d86",
   "metadata": {},
   "outputs": [],
   "source": [
    "from langchain.storage import InMemoryByteStore\n",
    "from langchain.retrievers.multi_vector import MultiVectorRetriever\n",
    "from langchain_community.vectorstores import Chroma\n",
    "from langchain_community.embeddings import HuggingFaceBgeEmbeddings"
   ]
  },
  {
   "cell_type": "code",
   "execution_count": 8,
   "id": "e63ea80a",
   "metadata": {},
   "outputs": [
    {
     "name": "stderr",
     "output_type": "stream",
     "text": [
      "C:\\Users\\xoxo3\\AppData\\Local\\Temp\\ipykernel_7492\\2439637394.py:4: LangChainDeprecationWarning: The class `HuggingFaceBgeEmbeddings` was deprecated in LangChain 0.2.2 and will be removed in 1.0. An updated version of the class exists in the :class:`~langchain-huggingface package and should be used instead. To use it run `pip install -U :class:`~langchain-huggingface` and import as `from :class:`~langchain_huggingface import HuggingFaceEmbeddings``.\n",
      "  hf_embeddings = HuggingFaceBgeEmbeddings(\n"
     ]
    },
    {
     "name": "stderr",
     "output_type": "stream",
     "text": [
      "c:\\Users\\xoxo3\\OneDrive\\Desktop\\PYTHON\\5_hr_rag_course\\venv\\Lib\\site-packages\\tqdm\\auto.py:21: TqdmWarning: IProgress not found. Please update jupyter and ipywidgets. See https://ipywidgets.readthedocs.io/en/stable/user_install.html\n",
      "  from .autonotebook import tqdm as notebook_tqdm\n",
      "C:\\Users\\xoxo3\\AppData\\Local\\Temp\\ipykernel_7492\\2439637394.py:10: LangChainDeprecationWarning: The class `Chroma` was deprecated in LangChain 0.2.9 and will be removed in 1.0. An updated version of the class exists in the :class:`~langchain-chroma package and should be used instead. To use it run `pip install -U :class:`~langchain-chroma` and import as `from :class:`~langchain_chroma import Chroma``.\n",
      "  vectorstore = Chroma(\n",
      "Failed to send telemetry event ClientStartEvent: capture() takes 1 positional argument but 3 were given\n",
      "Failed to send telemetry event ClientCreateCollectionEvent: capture() takes 1 positional argument but 3 were given\n"
     ]
    }
   ],
   "source": [
    "model_name = \"BAAI/bge-small-en\"\n",
    "model_kwargs = {\"device\":\"cpu\"}\n",
    "encode_kwargs = {\"normalize_embeddings\": True}\n",
    "hf_embeddings = HuggingFaceBgeEmbeddings(\n",
    "    model_name = model_name,\n",
    "    model_kwargs = model_kwargs,\n",
    "    encode_kwargs = encode_kwargs\n",
    ")\n",
    "\n",
    "vectorstore = Chroma(\n",
    "    collection_name= \"summaries\",\n",
    "    embedding_function= hf_embeddings\n",
    ")\n",
    "\n",
    "store = InMemoryByteStore()\n",
    "id_key = \"doc_id\"\n",
    "\n",
    "retriever = MultiVectorRetriever(\n",
    "    vectorstore= vectorstore,\n",
    "    byte_store= store,\n",
    "    id_key= id_key\n",
    ")\n",
    "doc_ids = [str(uuid.uuid4()) for _ in docs]\n",
    "\n",
    "summary_docs = [\n",
    "    Document(\n",
    "        page_content= s,\n",
    "        metadata = {id_key: doc_ids[i]}\n",
    "    )\n",
    "        for i,s in enumerate(summaries)\n",
    "]\n",
    "\n",
    "retriever.vectorstore.add_documents(summary_docs)\n",
    "retriever.docstore.mset(list(zip(doc_ids, docs)))"
   ]
  },
  {
   "cell_type": "code",
   "execution_count": 9,
   "id": "9d68573d",
   "metadata": {},
   "outputs": [
    {
     "data": {
      "text/plain": [
       "['66969814-fac7-46d6-abc3-5bd4cbf5c9aa',\n",
       " 'de92ccd9-4ee6-4669-b8e5-0f0000395b5d']"
      ]
     },
     "execution_count": 9,
     "metadata": {},
     "output_type": "execute_result"
    }
   ],
   "source": [
    "doc_ids"
   ]
  },
  {
   "cell_type": "code",
   "execution_count": 10,
   "id": "21dfaf8d",
   "metadata": {},
   "outputs": [
    {
     "data": {
      "text/plain": [
       "[Document(metadata={'source': 'https://medium.com/@pankaj_pandey/introduction-to-retrieval-augmented-generation-rag-9209bf8a076d', 'title': 'Introduction to Retrieval-Augmented Generation (RAG) | by Pankaj | Medium', 'description': 'The world is advancing rapidly, introducing new technologies and stacks in AI and other areas every day. Large Language Models (LLMs) are a significant innovation in this space. However, LLMs have…', 'language': 'en'}, page_content='Introduction to Retrieval-Augmented Generation (RAG) | by Pankaj | MediumSitemapOpen in appSign upSign inMedium LogoWriteSign upSign inMastodonIntroduction to Retrieval-Augmented Generation (RAG)Pankaj6 min read·Dec 16, 2023--ListenShareRAG systems aim to address the drawbacks of Large Language Models by incorporating factual information during response generation, mitigating issues such as knowledge cutoff and response hallucination.Retrieval Augmented Generation (RAG)The world is advancing rapidly, introducing new technologies and stacks in AI and other areas every day. Large Language Models (LLMs) are a significant innovation in this space. However, LLMs have drawbacks due to their knowledge cutoff and other reasons, leading to confident but inaccurate responses. The RAG systems aim to address this issue by incorporating factual information during response generation to prevent hallucination and retrieve accurate responses.Introduction:RAG is an AI framework that improves the accuracy and reliability of large language models (LLMs) by grounding them in external knowledge bases.LLMs can be inconsistent and prone to errors, lacking true understanding of word meaning.RAG addresses these issues by providing access to up-to-date facts and verifiable sources, increasing user trust.Purpose of RAG:Grounding LLMs on external knowledge for improved responses.Overcoming inconsistencies in LLM-generated answers.Challenges Addressed by RAG:Inconsistency in LLM responses.Lack of understanding of the meaning of words by LLMs.Reduction of opportunities for the model to leak sensitive data.Benefits of RAG:Accuracy and Fact-Checking:Ensures LLM responses are based on reliable sources, allowing users to verify claims.Reduced Bias and Hallucination:Limits LLM reliance on internal biases and prevents fabrication of information.Lower Cost and Maintenance:Reduces the need for continuous LLM retraining and updates, saving computational resources.How RAG Works:RAG consists of two distinct phases: retrieval and content generation. In the retrieval phase, algorithms search for and retrieve relevant information from external knowledge bases. This information is then used in the generative phase, where the LLM synthesizes an answer based on both the augmented prompt and its internal representation of training data.Phase 1: RetrievalRelevant information is retrieved from external sources based on the user\\'s prompt or question.Sources vary depending on the context (open-domain internet vs. closed-domain enterprise data).Phase 2: Content GenerationThe retrieved information is appended to the user\\'s prompt and fed to the LLM.The LLM generates a personalized answer based on the augmented prompt and its internal knowledge base.The answer can be delivered with links to its sources for transparency.Advantages and Applications of RAGRAG offers several advantages, including access to the latest, reliable facts, reduction in sensitive data leakage and decreased need for continuous model retraining. It finds applications in personalized responses, verifiable answers and lowering computational and financial costs in enterprise settings.Access to current and reliable information.Reduced opportunities for sensitive data leakage.Lower computational and financial costs in LLM-powered applications.Implementation and WorkflowsRAG operates in an “open book” manner, allowing LLMs to respond to questions by browsing through external content. It involves a retrieval phase, where relevant information is gathered and a generative phase, where the LLM synthesizes a response using both external and internal knowledge.Open-Book Approach:Contrasted with closed-book exams, where LLMs rely on memory.Model’s response involves browsing through external content.Workflow:Retrieval phase: Search and gather external information.Generative phase: Synthesize a personalized answer using internal and external knowledge.Teaching LLMs to Recognize LimitationsLLMs, when faced with ambiguous or complex queries, may provide inaccurate responses. RAG helps in training LLMs to recognize unanswerable questions and prompts them to either admit uncertainty or ask clarifying questions.Recognition of Limitations:LLMs prone to making things up in challenging scenarios.Training LLMs to explicitly recognize unanswerable questions.Challenges and Ongoing Innovations in Retrieval-Augmented GenerationWhile RAG is a powerful tool, there are still some challenges persist and ongoing innovations are necessary. Lots of Research is focused on improving both the retrieval and generation ends of the process to enhance the effectiveness of RAG.Challenges:Imperfections in RAG.Enriching prompts with relevant information using vectors.Innovations and Research:Focus on retrieval: Finding and fetching the most relevant information.Focus on generation: Structuring information for richer responses.Example Scenario: Customer Care ChatbotAlice, an employee, asks about taking vacation in half-day increments.The LLM retrieves relevant data from Alice\\'s HR files and company policies.It generates a personalized answer confirming her vacation allowance and half-day eligibility.The answer is delivered with links to the HR files and policies for verification.Challenges and Future DirectionsTraining LLMs to recognize \"unknowns\" and avoid making things up.Improving retrieval algorithms for finding the most relevant information.Optimizing generation techniques for incorporating retrieved information effectively.Python Code Examples:1. Simple Retrieval with Elasticsearch:from elasticsearch import Elasticsearches = Elasticsearch()query = \"early dismissal school Wednesdays\"results = es.search(index=\"documents\", query={\"query\": {\"match\": {\"text\": query}}})# Process results and use them to augment the LLM prompt...2. Combining Retrieval and Generation with Transformers:# Using a transformer-based model with RAG for information retrieval and generationfrom transformers import pipelinerag_qa_pipeline = pipeline(\"question-answering\", model=\"facebook/rag-token-base\", retriever=\"facebook/rag-token-base\")question = \"What is retrieval-augmented generation?\"answer = rag_qa_pipeline(question, truncation=True, return_prompt=True)print(answer)from transformers import AutoTokenizer, AutoModelForSequenceClassificationtokenizer = AutoTokenizer.from_pretrained(\"bert-base-uncased\")model = AutoModelForSequenceClassification.from_pretrained(\"rag/bert-base-uncased-rag\")prompt = \"Alice asks about taking vacation in half-day increments.\"retrieved_info = ...  # Retrieved information from external sourceencoded_prompt = tokenizer(prompt + retrieved_info, return_tensors=\"pt\")output = model(**encoded_prompt)# Process output and use it to generate the LLM response...# Sample Python code demonstrating the retrieval phase in RAGdef retrieval_phase(user_prompt, external_data):    # Algorithm to search and retrieve relevant information    retrieved_info = search_and_retrieve(user_prompt, external_data)    return retrieved_info# Sample Python code demonstrating the generative phase in RAGdef generative_phase(augmented_prompt, internal_data):    # Algorithm to synthesize a personalized answer using internal and external knowledge    answer = generate_response(augmented_prompt, internal_data)    return answer3. RAG Example in a question answering system:# Example of using RAG in a question answering systemfrom transformers import RagTokenizer, RagRetriever, RagSequenceForGenerationtokenizer = RagTokenizer.from_pretrained(\"facebook/rag-token-base\")retriever = RagRetriever.from_pretrained(\"facebook/rag-token-base\")model = RagSequenceForGeneration.from_pretrained(\"facebook/rag-token-base\")# Retrieve relevant informationinput_text = \"What is retrieval-augmented generation?\"retrieved_info = retriever.retrieve(input_text)# Generate response using RAGgenerated_response = model.generate(**retrieved_info)print(tokenizer.decode(generated_response[0], skip_special_tokens=True))4. Personalized and Verifiable Responses with RAGRetrieval-augmented generation (RAG) enables large language models (LLMs) to provide personalized responses without constant retraining. It reduces the need for manual scripting in chatbots, allowing the model to adapt to new information dynamically.# Using RAG to generate personalized responses in a chatbotfrom transformers import RagRetriever, RagSequenceForGenerationretriever = RagRetriever.from_pretrained(\"facebook/rag-token-base\")model = RagSequenceForGeneration.from_pretrained(\"facebook/rag-token-base\")# User\\'s queryuser_query = \"Can I take vacation in half-day increments?\"# Retrieve relevant informationretrieved_info = retriever.retrieve(user_query)# Generate personalized response using RAGgenerated_response = model.generate(**retrieved_info)print(tokenizer.decode(generated_response[0], skip_special_tokens=True))5. Teaching the Model to Recognize UnknownsLLMs need explicit training to recognize and admit when they cannot answer certain questions. RAG addresses the challenge of ambiguous queries, complex questions and situations where the model lacks information.# Training an LLM to recognize unknown questions using RAGfrom transformers import RagRetriever, RagSequenceForGenerationretriever = RagRetriever.from_pretrained(\"facebook/rag-token-base\")model = RagSequenceForGeneration.from_pretrained(\"facebook/rag-token-base\")# User\\'s ambiguous queryambiguous_query = \"How much vacation time do I have?\"# Retrieve relevant informationretrieved_info = retriever.retrieve(ambiguous_query)# Train the model to recognize unknowns# ...# Generate response using RAG, considering the unknown recognitiongenerated_response = model.generate(**retrieved_info)print(tokenizer.decode(generated_response[0], skip_special_tokens=True))Note: These are simplified examples to understand the basic concepts, the actual implementation may require more complex code and libraries depending on the specific use case and desired functionalities.Conclusion:RAG is a promising approach for improving LLM accuracy and reliability, offering benefits like factual grounding, reduced bias and lower maintenance costs. While challenges remain in areas like unknown recognition and retrieval optimization, ongoing research is pushing the boundaries of RAG capabilities and paving the way for more trustworthy and informative LLM applications.Supporting Information:Vector databases play a crucial role in RAG by efficiently indexing, storing and retrieving information.Lots of Research emphasizes the imperfections of RAG and the need for ongoing improvements in its implementation.Remember: This is a preliminary analysis. Further research and validation are needed to ensure the accuracy and completeness of the information presented.SourcesData-Science-Pipeline-DetectorRetrieval-augmented-generation-RAGLarge Language ModelsRagMachine LearningData ScienceAI----Written by Pankaj914 followers·11 followingExpert in software technologies with proficiency in multiple languages, experienced in Generative AI, NLP, Bigdata, and application development.No responses yetHelpStatusAboutCareersPressBlogPrivacyRulesTermsText to speech\\n\\n\\n\\n\\n\\n\\n\\n\\n\\n\\n\\n\\n\\n\\n\\n\\n\\n\\n\\n\\n\\n\\n\\n\\n\\n\\n\\n\\n\\n\\n\\n\\n\\n\\n'),\n",
       " Document(metadata={'source': 'https://medium.com/humansdotai/an-introduction-to-ai-agents-e8c4afd2ee8f', 'title': 'An Introduction to AI Agents. Artificial Intelligence Agents are the… | by Humans.ai | humansdotai | Medium', 'description': 'Artificial Intelligence Agents are the digital newcomers revolutionizing our world. These agents, often called AI bots or virtual assistants, are intelligent systems programmed to perform tasks, make…', 'language': 'en'}, page_content='An Introduction to AI Agents. Artificial Intelligence Agents are the… | by Humans.ai | humansdotai | MediumSitemapOpen in appSign upSign inMedium LogoWriteSign upSign inhumansdotai·Humans.ai utilizes blockchain technology to align artificial intelligence with trust, creating a human-centric approach. Our company views AI not as a tool but as a companion, envisioning a collaborative future with humanity.An Introduction to AI AgentsHumans.ai7 min read·Dec 27, 2023--2ListenShareArtificial Intelligence Agents are the digital newcomers revolutionizing our world. These agents, often called AI bots or virtual assistants, are intelligent systems programmed to perform tasks, make decisions, and interact with their environment just like humans do. Powered by machine learning, natural language processing, and other cutting-edge technologies, AI Agents can learn from data, adapt to new information, and execute complex functions autonomously. They exist in various forms, from chatbots providing customer service to sophisticated robots created for healthcare and manufacturing. AI Agents are designed to understand, analyze, and respond to human input, constantly evolving to enhance their capabilities.In this article, we’ll delve into the world of AI agents, exploring their functionalities, the technology behind their intelligence, their applications across industries, and the ethical considerations that arise as these agents become increasingly integrated into our daily lives.Join us on an amazing journey through the fascinating world of AI agents and their transformative potential!Understanding AI AgentsAI Agents navigate their environments and accomplish goals autonomously, free from human intervention. These savvy programs address customer queries, and make fast decisions based on real-time information, revolutionizing the landscape of customer engagement. Think of them as the pioneers redefining our interactions — they’re simplifying business processes and customer communications with an adaptive finesse that transforms the ordinary into extraordinary.These agents work their magic by perceiving their surroundings and executing actions through a spectrum of tools — from rule-based systems and decision-makers to the benefits of machine learning. As digital decision-makers fueled by past and present inputs, AI Agents pursue optimal outcomes, slowly carving the path to a smarter and more intuitive future.AI Agents are revolutionizing the way we interact with technology. Unlike traditional AI interactions where prompts are necessary for responses, AI agents operate independently, driven by goals rather than specific inputs. They’re autonomous problem solvers, seamlessly adapting to new information and environments, evolving with every task to achieve their objectives optimally.In contrast to standard automation processes rooted in fixed parameters and training data, AI Agents flourish in uncertain landscapes, navigating uncharted territories and handling vast streams of fresh data. They’re the new face of intelligent automation. But AI Agents aren’t just intelligent; they’re adept at using computers. From browsing the internet and managing apps to conducting financial transactions and controlling devices, their capabilities are vast and versatile.More importantly, the emergence of AI Agents signifies a step towards Artificial General Intelligence (AGI), where machines will emulate human-like flexibility and unparalleled proficiency across diverse domains. AI Agents represent a groundbreaking step toward this future, where technology’s potential is unknown.How does an AI Agent work?AI Agents operate similarly to popular AI solutions present on the market, namely they require users to input an objective, after which the AI Agent initiates its journey toward the goal by engaging with the core Language Learning Models that operate in the background to return its first output and showcase its understanding of the task at hand.Next comes the meticulous crafting of a task list. Driven by the defined goal, the AI Agent formulates a sequence of tasks, prioritizing their order of completion. Once satisfied with its plan, it delves into information retrieval.Functioning like an experimented computer user, the Agent navigates the vast domain of the internet to gather relevant information. Some advanced agents collaborate with other AI models, enabling access to specialized tasks like image generation and computer vision functionalities. All the collected data is meticulously managed by the Agent and used to relay information back to the user and refine its strategy for more optimized progress.As each task is completed, the Agent actively seeks feedback, both from external sources and through its internal thought process, to estimate its distance from the ultimate goal. Until its objective is achieved, the agent relentlessly iterates, crafting new tasks and seeking more data and feedback to advance toward its goal.These are the fundamental steps a typical AI Agent follows to fulfill any given goal. Yet, the sequencing of steps may vary depending on the different configurations or objectives the AI agent was designed for.How AI Agents transform businessesAI Agents stand as catalysts, elevating the game for businesses by infusing tasks with heightened performance and supercharged outcomes. These agents take on tasks that either surpass human capabilities or liberate us from those tasks we’d rather not tackle. In business, AI Agents aren’t just tools; they’re game-changers, empowering enterprises to rise beyond limits and build new paths of efficiency, personalization, and cost-effectiveness. Overall, AI Agents serve as guardians against errors, the solvers of intricate puzzles, and the creators of new fields of opportunities.AI Agents Characteristics:✅ Enhanced Efficiency: AI Agents perform tasks with impeccable speed and accuracy, effortlessly surpassing humans. They’re the masters of repetitive tasks, allowing humans to focus their attention on complex problem-solving.✅ Tailored Personalization: AI Agents use data analytics to curate personalized customer solutions and recommendations.✅ Unmatched Scalability: Virtual agents boast adaptability like no other, effortlessly scaling their operations to meet the surge during peak seasons or unexpected demand spikes, empowering businesses with unparalleled flexibility.✅ Always On: These tireless digital agents operate around the clock, offering 24/7 customer service. No overtime, no weekend shifts, just unwavering availability.✅ Reduced Costs: By automating routine tasks, AI Agents are the tool that slashes labor costs for businesses. Moreover, they’re handling numerous customer inquiries simultaneously, reducing the need for additional staff.How AI Agents are revolutionizing the economyAI Agents have become indispensable across various business domains, revolutionizing service delivery, supply chains, and marketing strategies. These multifaceted AI Agents can become the backbone of modern business operations, shaping the future with their unparalleled versatility and transformative capabilities, serving as catalysts for transformative change, with examples transcending multiple industries:• Finance: Autonomous agents redefine trading, risk management, and fraud detection. Hedge funds leverage AI-powered agents to analyze market data and execute trades intelligently.• Energy: In power grids and energy markets, adaptive agents streamline operations, automating power generation and distribution with precision and efficiency.• Transportation: Automobile companies like Tesla utilize AI-based agents to develop self-driving cars. These autonomous agents make decisions based on sensory inputs, optimizing traffic flow and supply chain logistics. AI Agents can also help manage traffic flow and improve logistics and supply chain management.• Healthcare: Autonomous agents revolutionize diagnosis and treatment by analyzing medical records, crafting personalized treatment plans, and optimizing resource allocation.• Customer Service: Virtual assistants and AI-driven chatbots enhance customer service across diverse industries, ensuring seamless interactions.• Gaming: Intelligent agents enrich gaming experiences by creating challenging opponents in simulations, enhancing realism for players.• Smart Homes and Buildings: Agents optimize energy consumption and improve comfort by controlling heating, lighting, and other systems in smart homes and buildings.• Robotics: AI Agents can control robots and automate tasks, driving operational efficiency.• Natural Language Processing: Agents facilitate language translation, question answering, and chatbot communication, bridging gaps in user interactions.• Cybersecurity: AI Agents can bolster security measures by detecting intrusions, analyzing malware, and fortifying network security.• Environmental Monitoring: AI Agents contribute to sustainability efforts by monitoring natural resources, tracking climate changes, and enhancing environmental conservation.• Social Media: Agents analyze social media data, unveiling trends, patterns, and personalized recommendations, enriching user experiences.Categories of AI AgentsAI Agents operate nearly independently, navigating their surroundings, interpreting information, and making decisions based on keen observations. Different types of AI Agents are tailor-made to address specific business challenges within their designated domains.Classifying AI Agents involves discerning the impact of their actions on their perceived intelligence and capacities. By delving into the distinct traits of each agent category, there’s ample potential to elevate their efficiency and yield superior outcomes.Simple Reflex AgentsA simple reflex agent operates within predefined guidelines, reacting solely to immediate circumstances. It’s most effective in stable environments with straightforward actions, where its reactive nature suits the situation. Simple Reflex agents work based on condition-action rules, determining responses based on specific conditions.Model-Based Reflex AgentsA model-based Reflex Agent operates on a current percept and an internal state representing the hidden aspects of the world. It adapts its internal state based on how the world evolves and the impact of its actions on it. Model-based Reflex Agents work based on condition-action rules, which specify the appropriate action to take in a particular situation. Unlike simple reflex agents, they also factor in their internal state during decision-making.Goal-based AgentsGoal-based Agents leverage information from their surroundings to achieve defined objectives. Employing search algorithms, these agents efficiently navigate through their environments to reach their set goals.Also known as rule-based, they follow predefined directives to accomplish tasks and act based on specific conditions. They excel in handling complex tasks, finding their utility in robotics, computer vision, and natural language processing. Unlike their basic counterparts, goal-based agents identify optimal decision-making paths tailored to their desired outcomes or goals.Utility-Based AI AgentsUtility-based Agents aim to maximize utility functions or values. They cherry-pick actions with the highest expected utility, measuring how favorable the outcome is. Due to this design, utility-based Agents excel in navigating complex and uncertain scenarios, adapting flexibly to situations.Learning AgentsAI Learning Agents constantly enhance performance through the power of learning. These software agents start with basic knowledge and refine themselves through machine learning, constantly evolving to achieve better outcomes. AI learning agents observe, learn, and act based on feedback loops, constantly adapting to shape their behavior for future interactions.Hierarchical AI AgentsHierarchical Agents are organized in tiers, with higher-level agents orchestrating lower-level counterparts. These levels, tailored to the system’s complexity, excel in diverse fields like robotics, manufacturing, and transportation, adept at coordinating multiple tasks and sub-tasks seamlessly.ConclusionIn a generation characterized by rapid AI advancement, the trajectory of AI Agents promises unparalleled autonomy, capable of making independent decisions with minimal human oversight. Their potential spans across diverse industries, revolutionizing customer service, predicting market demands, optimizing production lines, and beyond.The extensive applications of AI Agents hint at vast promise, yet ethical considerations remain most important. Responsible and beneficial utilization of these Agents is essential for enterprises venturing into this transformative journey.Market analysis shows that the 2024 year it’s the moment to embrace the formidable power of AI Agents at the enterprise’s level.AIArtificial IntelligenceAi AgentAGITech----2Published in humansdotai1.2K followers·Last published\\xa0Oct 28, 2024Humans.ai utilizes blockchain technology to align artificial intelligence with trust, creating a human-centric approach. Our company views AI not as a tool but as a companion, envisioning a collaborative future with humanity.Written by Humans.ai426 followers·4 followingHeart driven AIResponses (2)See all responsesHelpStatusAboutCareersPressBlogPrivacyRulesTermsText to speech\\n\\n\\n\\n\\n\\n\\n\\n\\n\\n\\n\\n\\n\\n\\n\\n\\n\\n\\n\\n\\n\\n\\n\\n\\n\\n\\n\\n\\n\\n\\n\\n\\n\\n\\n\\n')]"
      ]
     },
     "execution_count": 10,
     "metadata": {},
     "output_type": "execute_result"
    }
   ],
   "source": [
    "retriever.docstore.mget(doc_ids)"
   ]
  },
  {
   "cell_type": "code",
   "execution_count": 11,
   "id": "c7d951c8",
   "metadata": {},
   "outputs": [
    {
     "name": "stderr",
     "output_type": "stream",
     "text": [
      "Failed to send telemetry event CollectionQueryEvent: capture() takes 1 positional argument but 3 were given\n"
     ]
    },
    {
     "data": {
      "text/plain": [
       "Document(metadata={'doc_id': 'de92ccd9-4ee6-4669-b8e5-0f0000395b5d'}, page_content='The article provides an introduction to Artificial Intelligence (AI) Agents, which are digital systems that can perform tasks, make decisions, and interact with their environment like humans. Powered by machine learning, natural language processing, and other cutting-edge technologies, AI Agents can learn from data, adapt to new information, and execute complex functions autonomously.\\n\\nThe article explains that AI Agents are designed to understand, analyze, and respond to human input, constantly evolving to enhance their capabilities. They exist in various forms, from chatbots providing customer service to sophisticated robots created for healthcare and manufacturing.\\n\\nThe article delves into the world of AI Agents, exploring their functionalities, the technology behind their intelligence, their applications across industries, and the ethical considerations that arise as these agents become increasingly integrated into our daily lives.\\n\\nSome key points from the article include:\\n\\n* AI Agents operate autonomously, free from human intervention, and can make fast decisions based on real-time information.\\n* They are revolutionizing the way we interact with technology, operating independently, and driven by goals rather than specific inputs.\\n* AI Agents are capable of using computers, browsing the internet, managing apps, conducting financial transactions, and controlling devices.\\n* They are a step towards Artificial General Intelligence (AGI), where machines will emulate human-like flexibility and unparalleled proficiency across diverse domains.\\n* AI Agents have characteristics such as enhanced efficiency, tailored personalization, unmatched scalability, always-on availability, and reduced costs.\\n* They are transforming businesses across various industries, including finance, energy, transportation, healthcare, customer service, gaming, smart homes, and buildings, robotics, natural language processing, cybersecurity, environmental monitoring, and social media.\\n* There are different categories of AI Agents, including simple reflex agents, model-based reflex agents, goal-based agents, utility-based agents, learning agents, and hierarchical AI agents.\\n\\nThe article concludes that AI Agents have vast potential to revolutionize industries and transform the way we live and work. However, it is essential to consider ethical implications and ensure responsible and beneficial utilization of these agents.')"
      ]
     },
     "execution_count": 11,
     "metadata": {},
     "output_type": "execute_result"
    }
   ],
   "source": [
    "query = \"What is agent\"\n",
    "sub_docs = vectorstore.similarity_search(query,k=1)\n",
    "sub_docs[0]"
   ]
  },
  {
   "cell_type": "code",
   "execution_count": 12,
   "id": "a0b7c27a",
   "metadata": {},
   "outputs": [
    {
     "name": "stderr",
     "output_type": "stream",
     "text": [
      "C:\\Users\\xoxo3\\AppData\\Local\\Temp\\ipykernel_7492\\899682954.py:1: LangChainDeprecationWarning: The method `BaseRetriever.get_relevant_documents` was deprecated in langchain-core 0.1.46 and will be removed in 1.0. Use :meth:`~invoke` instead.\n",
      "  retrieved_docs = retriever.get_relevant_documents(query,n_results = 1)\n"
     ]
    },
    {
     "data": {
      "text/plain": [
       "'An Introduction to AI Agents. Artificial Intelligence Agents are the… | by Humans.ai | humansdotai | MediumSitemapOpen in appSign upSign inMedium LogoWriteSign upSign inhumansdotai·Humans.ai utilizes blockchain technology to align artificial intelligence with trust, creating a human-centric approach. Our company views AI not as a tool but as a companion, envisioning a collaborative future with humanity.An Introduction to AI AgentsHumans.ai7 min read·Dec 27, 2023--2ListenShareArtificial Intellige'"
      ]
     },
     "execution_count": 12,
     "metadata": {},
     "output_type": "execute_result"
    }
   ],
   "source": [
    "retrieved_docs = retriever.get_relevant_documents(query,n_results = 1)\n",
    "retrieved_docs[0].page_content[0:500]"
   ]
  }
 ],
 "metadata": {
  "kernelspec": {
   "display_name": "venv",
   "language": "python",
   "name": "python3"
  },
  "language_info": {
   "codemirror_mode": {
    "name": "ipython",
    "version": 3
   },
   "file_extension": ".py",
   "mimetype": "text/x-python",
   "name": "python",
   "nbconvert_exporter": "python",
   "pygments_lexer": "ipython3",
   "version": "3.13.2"
  }
 },
 "nbformat": 4,
 "nbformat_minor": 5
}
